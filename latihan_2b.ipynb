{
 "cells": [
  {
   "cell_type": "code",
   "execution_count": 1,
   "id": "6a8fa4e6",
   "metadata": {},
   "outputs": [
    {
     "data": {
      "application/vnd.plotly.v1+json": {
       "config": {
        "plotlyServerURL": "https://plot.ly"
       },
       "data": [
        {
         "hovertemplate": "Peringkat Rata-rata=%{x}<br>Jumlah Musim=%{y}<extra></extra>",
         "legendgroup": "",
         "marker": {
          "color": "#636efa",
          "symbol": "circle"
         },
         "mode": "markers",
         "name": "",
         "showlegend": false,
         "type": "scattergl",
         "x": {
          "bdata": "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",
          "dtype": "f8"
         },
         "xaxis": "x",
         "y": {
          "bdata": "LCgnFBQTExMSEhIRERAQDw8PDw8ODg4ODg0NDQ0NDQ0MDAwMDAwMDAsLCwsLCwsLCwsKCgoKCgoKCgoKCgoKCgoJCQkJCQkJCQkJCQkJCQkJCQkJCAgICAgICAgICAgICAgICAgICAgICAgICAgICAgICAgIBwcHBwcHBwcHBwcHBwcHBwcHBwcHBwcHBwcHBwcHBwcHBwcHBwcHBwcHBwcHBwcHBwcHBgYGBgYGBgYGBgYGBgYGBgYGBgYGBgYGBgYGBgYGBgYGBgYGBgYGBgYGBgYGBgYGBgYGBgYGBgYGBgYGBgYGBgYGBQUFBQUFBQUFBQUFBQUFBQUFBQUFBQUFBQUFBQUFBQUFBQUFBQUFBQUFBQUFBQUFBQUFBQUFBQUFBQUFBQUFBQUFBQUFBQUFBQUFBQUFBQUFBQUFBQUFBQUFBQUFBQUFBQUFBQUFBQUFBQUFBQUFBQQEBAQEBAQEBAQEBAQEBAQEBAQEBAQEBAQEBAQEBAQEBAQEBAQEBAQEBAQEBAQEBAQEBAQEBAQEBAQEBAQEBAQEBAQEBAQEBAQEBAQEBAQEBAQEBAQEBAQEBAQEBAQEBAQEBAQEBAQEBAQEBAQEBAQEBAQEBAQEBAQEBAQEBAQEBAQEBAQEBAQEBAQEBAQEBAQEBAQEBAQEBAMDAwMDAwMDAwMDAwMDAwMDAwMDAwMDAwMDAwMDAwMDAwMDAwMDAwMDAwMDAwMDAwMDAwMDAwMDAwMDAwMDAwMDAwMDAwMDAwMDAwMDAwMDAwMDAwMDAwMDAwMDAwMDAwMDAwMDAwMDAwMDAwMDAwMDAwMDAwMDAwMDAwMDAwMDAwMDAwMDAwMDAwMDAwMDAwMDAwMDAwMDAwMDAwMDAwMDAwMDAwMDAwMDAwMDAwMDAwMDAwMDAwMDAwMDAwMDAwMDAwMDAwMCAgICAgICAgICAgICAgICAgICAgICAgICAgICAgICAgICAgICAgICAgICAgICAgICAgICAgICAgICAgICAgICAgICAgICAgICAgICAgICAgICAgICAgICAgICAgICAgICAgICAgICAgICAgICAgICAgICAgICAgICAgICAgICAgICAgICAgICAgICAgICAgICAgICAgICAgICAgICAgICAgICAgICAgICAgICAgICAgICAgICAgICAgICAgICAgICAgICAgICAgICAgICAgICAgICAgICAgICAgICAgICAgICAgICAgICAgICAgICAgICAgICAgICAgICAgICAgICAgICAgICAgICAgICAgICAgICAgICAgICAgICAgICAgICAgICAgICAgIBAQEBAQEBAQEBAQEBAQEBAQEBAQEBAQEBAQEBAQEBAQEBAQEBAQEBAQEBAQEBAQEBAQEBAQEBAQEBAQEBAQEBAQEBAQEBAQEBAQEBAQEBAQEBAQEBAQEBAQEBAQEBAQEBAQEBAQEBAQEBAQEBAQEBAQEBAQEBAQEBAQEBAQEBAQEBAQEBAQEBAQEBAQEBAQEBAQEBAQEBAQEBAQEBAQEBAQEBAQEBAQEBAQEBAQEBAQEBAQEBAQEBAQEBAQEBAQEBAQEBAQEBAQEBAQEBAQEBAQEBAQEBAQEBAQEBAQEBAQEBAQEBAQEBAQEBAQEBAQEBAQEBAQEBAQEBAQEBAQEBAQEBAQEBAQEBAQEBAQEBAQEBAQEBAQEBAQEBAQEBAQEBAQEBAQEBAQEBAQEBAQEBAQEBAQEBAQEBAQEBAQEBAQEBAQEBAQEBAQEBAQEBAQEBAQEBAQEBAQEBAQEBAQEBAQEBAQEBAQEBAQEBAQEBAQEBAQEBAQEBAQEBAQEBAQEBAQEBAQEBAQEBAQEBAQEBAQEBAQEBAQEBAQEBAQEBAQEBAQEBAQEBAQEBAQEBAQEBAQEBAQEBAQEBAQEBAQEBAQEBAQEBAQEBAQEBAQEBAQEBAQEBAQEBAQEBAQEBAQEBAQEBAQEBAQEBAQEBAQEBAQEBAQEBAQEBAQEBAQEBAQEBAQEBAQEBAQEBAQEBAQEBAQEBAQEBAQEBAQEBAQEBAQEBAQEBAQEBAQEBAQEBAQEBAQEBAQEBAQEBAQEBAQEBAQEBAQEBAQEBAQEBAQEBAQEBAQEBAQEBAQEBAQEBAQEBAQEBAQEBAQEBAQEBAQEBAQEBAQEBAQEBAQEBAQE=",
          "dtype": "i1"
         },
         "yaxis": "y"
        }
       ],
       "layout": {
        "legend": {
         "tracegroupgap": 0
        },
        "template": {
         "data": {
          "bar": [
           {
            "error_x": {
             "color": "#2a3f5f"
            },
            "error_y": {
             "color": "#2a3f5f"
            },
            "marker": {
             "line": {
              "color": "white",
              "width": 0.5
             },
             "pattern": {
              "fillmode": "overlay",
              "size": 10,
              "solidity": 0.2
             }
            },
            "type": "bar"
           }
          ],
          "barpolar": [
           {
            "marker": {
             "line": {
              "color": "white",
              "width": 0.5
             },
             "pattern": {
              "fillmode": "overlay",
              "size": 10,
              "solidity": 0.2
             }
            },
            "type": "barpolar"
           }
          ],
          "carpet": [
           {
            "aaxis": {
             "endlinecolor": "#2a3f5f",
             "gridcolor": "#C8D4E3",
             "linecolor": "#C8D4E3",
             "minorgridcolor": "#C8D4E3",
             "startlinecolor": "#2a3f5f"
            },
            "baxis": {
             "endlinecolor": "#2a3f5f",
             "gridcolor": "#C8D4E3",
             "linecolor": "#C8D4E3",
             "minorgridcolor": "#C8D4E3",
             "startlinecolor": "#2a3f5f"
            },
            "type": "carpet"
           }
          ],
          "choropleth": [
           {
            "colorbar": {
             "outlinewidth": 0,
             "ticks": ""
            },
            "type": "choropleth"
           }
          ],
          "contour": [
           {
            "colorbar": {
             "outlinewidth": 0,
             "ticks": ""
            },
            "colorscale": [
             [
              0,
              "#0d0887"
             ],
             [
              0.1111111111111111,
              "#46039f"
             ],
             [
              0.2222222222222222,
              "#7201a8"
             ],
             [
              0.3333333333333333,
              "#9c179e"
             ],
             [
              0.4444444444444444,
              "#bd3786"
             ],
             [
              0.5555555555555556,
              "#d8576b"
             ],
             [
              0.6666666666666666,
              "#ed7953"
             ],
             [
              0.7777777777777778,
              "#fb9f3a"
             ],
             [
              0.8888888888888888,
              "#fdca26"
             ],
             [
              1,
              "#f0f921"
             ]
            ],
            "type": "contour"
           }
          ],
          "contourcarpet": [
           {
            "colorbar": {
             "outlinewidth": 0,
             "ticks": ""
            },
            "type": "contourcarpet"
           }
          ],
          "heatmap": [
           {
            "colorbar": {
             "outlinewidth": 0,
             "ticks": ""
            },
            "colorscale": [
             [
              0,
              "#0d0887"
             ],
             [
              0.1111111111111111,
              "#46039f"
             ],
             [
              0.2222222222222222,
              "#7201a8"
             ],
             [
              0.3333333333333333,
              "#9c179e"
             ],
             [
              0.4444444444444444,
              "#bd3786"
             ],
             [
              0.5555555555555556,
              "#d8576b"
             ],
             [
              0.6666666666666666,
              "#ed7953"
             ],
             [
              0.7777777777777778,
              "#fb9f3a"
             ],
             [
              0.8888888888888888,
              "#fdca26"
             ],
             [
              1,
              "#f0f921"
             ]
            ],
            "type": "heatmap"
           }
          ],
          "histogram": [
           {
            "marker": {
             "pattern": {
              "fillmode": "overlay",
              "size": 10,
              "solidity": 0.2
             }
            },
            "type": "histogram"
           }
          ],
          "histogram2d": [
           {
            "colorbar": {
             "outlinewidth": 0,
             "ticks": ""
            },
            "colorscale": [
             [
              0,
              "#0d0887"
             ],
             [
              0.1111111111111111,
              "#46039f"
             ],
             [
              0.2222222222222222,
              "#7201a8"
             ],
             [
              0.3333333333333333,
              "#9c179e"
             ],
             [
              0.4444444444444444,
              "#bd3786"
             ],
             [
              0.5555555555555556,
              "#d8576b"
             ],
             [
              0.6666666666666666,
              "#ed7953"
             ],
             [
              0.7777777777777778,
              "#fb9f3a"
             ],
             [
              0.8888888888888888,
              "#fdca26"
             ],
             [
              1,
              "#f0f921"
             ]
            ],
            "type": "histogram2d"
           }
          ],
          "histogram2dcontour": [
           {
            "colorbar": {
             "outlinewidth": 0,
             "ticks": ""
            },
            "colorscale": [
             [
              0,
              "#0d0887"
             ],
             [
              0.1111111111111111,
              "#46039f"
             ],
             [
              0.2222222222222222,
              "#7201a8"
             ],
             [
              0.3333333333333333,
              "#9c179e"
             ],
             [
              0.4444444444444444,
              "#bd3786"
             ],
             [
              0.5555555555555556,
              "#d8576b"
             ],
             [
              0.6666666666666666,
              "#ed7953"
             ],
             [
              0.7777777777777778,
              "#fb9f3a"
             ],
             [
              0.8888888888888888,
              "#fdca26"
             ],
             [
              1,
              "#f0f921"
             ]
            ],
            "type": "histogram2dcontour"
           }
          ],
          "mesh3d": [
           {
            "colorbar": {
             "outlinewidth": 0,
             "ticks": ""
            },
            "type": "mesh3d"
           }
          ],
          "parcoords": [
           {
            "line": {
             "colorbar": {
              "outlinewidth": 0,
              "ticks": ""
             }
            },
            "type": "parcoords"
           }
          ],
          "pie": [
           {
            "automargin": true,
            "type": "pie"
           }
          ],
          "scatter": [
           {
            "fillpattern": {
             "fillmode": "overlay",
             "size": 10,
             "solidity": 0.2
            },
            "type": "scatter"
           }
          ],
          "scatter3d": [
           {
            "line": {
             "colorbar": {
              "outlinewidth": 0,
              "ticks": ""
             }
            },
            "marker": {
             "colorbar": {
              "outlinewidth": 0,
              "ticks": ""
             }
            },
            "type": "scatter3d"
           }
          ],
          "scattercarpet": [
           {
            "marker": {
             "colorbar": {
              "outlinewidth": 0,
              "ticks": ""
             }
            },
            "type": "scattercarpet"
           }
          ],
          "scattergeo": [
           {
            "marker": {
             "colorbar": {
              "outlinewidth": 0,
              "ticks": ""
             }
            },
            "type": "scattergeo"
           }
          ],
          "scattergl": [
           {
            "marker": {
             "colorbar": {
              "outlinewidth": 0,
              "ticks": ""
             }
            },
            "type": "scattergl"
           }
          ],
          "scattermap": [
           {
            "marker": {
             "colorbar": {
              "outlinewidth": 0,
              "ticks": ""
             }
            },
            "type": "scattermap"
           }
          ],
          "scattermapbox": [
           {
            "marker": {
             "colorbar": {
              "outlinewidth": 0,
              "ticks": ""
             }
            },
            "type": "scattermapbox"
           }
          ],
          "scatterpolar": [
           {
            "marker": {
             "colorbar": {
              "outlinewidth": 0,
              "ticks": ""
             }
            },
            "type": "scatterpolar"
           }
          ],
          "scatterpolargl": [
           {
            "marker": {
             "colorbar": {
              "outlinewidth": 0,
              "ticks": ""
             }
            },
            "type": "scatterpolargl"
           }
          ],
          "scatterternary": [
           {
            "marker": {
             "colorbar": {
              "outlinewidth": 0,
              "ticks": ""
             }
            },
            "type": "scatterternary"
           }
          ],
          "surface": [
           {
            "colorbar": {
             "outlinewidth": 0,
             "ticks": ""
            },
            "colorscale": [
             [
              0,
              "#0d0887"
             ],
             [
              0.1111111111111111,
              "#46039f"
             ],
             [
              0.2222222222222222,
              "#7201a8"
             ],
             [
              0.3333333333333333,
              "#9c179e"
             ],
             [
              0.4444444444444444,
              "#bd3786"
             ],
             [
              0.5555555555555556,
              "#d8576b"
             ],
             [
              0.6666666666666666,
              "#ed7953"
             ],
             [
              0.7777777777777778,
              "#fb9f3a"
             ],
             [
              0.8888888888888888,
              "#fdca26"
             ],
             [
              1,
              "#f0f921"
             ]
            ],
            "type": "surface"
           }
          ],
          "table": [
           {
            "cells": {
             "fill": {
              "color": "#EBF0F8"
             },
             "line": {
              "color": "white"
             }
            },
            "header": {
             "fill": {
              "color": "#C8D4E3"
             },
             "line": {
              "color": "white"
             }
            },
            "type": "table"
           }
          ]
         },
         "layout": {
          "annotationdefaults": {
           "arrowcolor": "#2a3f5f",
           "arrowhead": 0,
           "arrowwidth": 1
          },
          "autotypenumbers": "strict",
          "coloraxis": {
           "colorbar": {
            "outlinewidth": 0,
            "ticks": ""
           }
          },
          "colorscale": {
           "diverging": [
            [
             0,
             "#8e0152"
            ],
            [
             0.1,
             "#c51b7d"
            ],
            [
             0.2,
             "#de77ae"
            ],
            [
             0.3,
             "#f1b6da"
            ],
            [
             0.4,
             "#fde0ef"
            ],
            [
             0.5,
             "#f7f7f7"
            ],
            [
             0.6,
             "#e6f5d0"
            ],
            [
             0.7,
             "#b8e186"
            ],
            [
             0.8,
             "#7fbc41"
            ],
            [
             0.9,
             "#4d9221"
            ],
            [
             1,
             "#276419"
            ]
           ],
           "sequential": [
            [
             0,
             "#0d0887"
            ],
            [
             0.1111111111111111,
             "#46039f"
            ],
            [
             0.2222222222222222,
             "#7201a8"
            ],
            [
             0.3333333333333333,
             "#9c179e"
            ],
            [
             0.4444444444444444,
             "#bd3786"
            ],
            [
             0.5555555555555556,
             "#d8576b"
            ],
            [
             0.6666666666666666,
             "#ed7953"
            ],
            [
             0.7777777777777778,
             "#fb9f3a"
            ],
            [
             0.8888888888888888,
             "#fdca26"
            ],
            [
             1,
             "#f0f921"
            ]
           ],
           "sequentialminus": [
            [
             0,
             "#0d0887"
            ],
            [
             0.1111111111111111,
             "#46039f"
            ],
            [
             0.2222222222222222,
             "#7201a8"
            ],
            [
             0.3333333333333333,
             "#9c179e"
            ],
            [
             0.4444444444444444,
             "#bd3786"
            ],
            [
             0.5555555555555556,
             "#d8576b"
            ],
            [
             0.6666666666666666,
             "#ed7953"
            ],
            [
             0.7777777777777778,
             "#fb9f3a"
            ],
            [
             0.8888888888888888,
             "#fdca26"
            ],
            [
             1,
             "#f0f921"
            ]
           ]
          },
          "colorway": [
           "#636efa",
           "#EF553B",
           "#00cc96",
           "#ab63fa",
           "#FFA15A",
           "#19d3f3",
           "#FF6692",
           "#B6E880",
           "#FF97FF",
           "#FECB52"
          ],
          "font": {
           "color": "#2a3f5f"
          },
          "geo": {
           "bgcolor": "white",
           "lakecolor": "white",
           "landcolor": "white",
           "showlakes": true,
           "showland": true,
           "subunitcolor": "#C8D4E3"
          },
          "hoverlabel": {
           "align": "left"
          },
          "hovermode": "closest",
          "mapbox": {
           "style": "light"
          },
          "paper_bgcolor": "white",
          "plot_bgcolor": "white",
          "polar": {
           "angularaxis": {
            "gridcolor": "#EBF0F8",
            "linecolor": "#EBF0F8",
            "ticks": ""
           },
           "bgcolor": "white",
           "radialaxis": {
            "gridcolor": "#EBF0F8",
            "linecolor": "#EBF0F8",
            "ticks": ""
           }
          },
          "scene": {
           "xaxis": {
            "backgroundcolor": "white",
            "gridcolor": "#DFE8F3",
            "gridwidth": 2,
            "linecolor": "#EBF0F8",
            "showbackground": true,
            "ticks": "",
            "zerolinecolor": "#EBF0F8"
           },
           "yaxis": {
            "backgroundcolor": "white",
            "gridcolor": "#DFE8F3",
            "gridwidth": 2,
            "linecolor": "#EBF0F8",
            "showbackground": true,
            "ticks": "",
            "zerolinecolor": "#EBF0F8"
           },
           "zaxis": {
            "backgroundcolor": "white",
            "gridcolor": "#DFE8F3",
            "gridwidth": 2,
            "linecolor": "#EBF0F8",
            "showbackground": true,
            "ticks": "",
            "zerolinecolor": "#EBF0F8"
           }
          },
          "shapedefaults": {
           "line": {
            "color": "#2a3f5f"
           }
          },
          "ternary": {
           "aaxis": {
            "gridcolor": "#DFE8F3",
            "linecolor": "#A2B1C6",
            "ticks": ""
           },
           "baxis": {
            "gridcolor": "#DFE8F3",
            "linecolor": "#A2B1C6",
            "ticks": ""
           },
           "bgcolor": "white",
           "caxis": {
            "gridcolor": "#DFE8F3",
            "linecolor": "#A2B1C6",
            "ticks": ""
           }
          },
          "title": {
           "x": 0.05
          },
          "xaxis": {
           "automargin": true,
           "gridcolor": "#EBF0F8",
           "linecolor": "#EBF0F8",
           "ticks": "",
           "title": {
            "standoff": 15
           },
           "zerolinecolor": "#EBF0F8",
           "zerolinewidth": 2
          },
          "yaxis": {
           "automargin": true,
           "gridcolor": "#EBF0F8",
           "linecolor": "#EBF0F8",
           "ticks": "",
           "title": {
            "standoff": 15
           },
           "zerolinecolor": "#EBF0F8",
           "zerolinewidth": 2
          }
         }
        },
        "title": {
         "text": "Hubungan antara Peringkat Rata-rata dan Jumlah Musim"
        },
        "xaxis": {
         "anchor": "y",
         "domain": [
          0,
          1
         ],
         "title": {
          "text": "Peringkat Rata-rata"
         }
        },
        "yaxis": {
         "anchor": "x",
         "domain": [
          0,
          1
         ],
         "title": {
          "text": "Jumlah Musim"
         }
        }
       }
      }
     },
     "metadata": {},
     "output_type": "display_data"
    }
   ],
   "source": [
    "import pandas as pd\n",
    "import numpy as np\n",
    "import seaborn as sns\n",
    "import plotly.express as px\n",
    "\n",
    "# Membaca data dari file CSV\n",
    "df = pd.read_csv('tv.csv')\n",
    "\n",
    "# Membuat scatter plot dengan Plotly\n",
    "fig = px.scatter(\n",
    "    df,\n",
    "    x='av_rating',  # Peringkat rata-rata sebagai sumbu-x\n",
    "    y='seasonNumber',  # Jumlah musim sebagai sumbu-y\n",
    "    title=\"Hubungan antara Peringkat Rata-rata dan Jumlah Musim\",\n",
    "    labels={'av_rating': 'Peringkat Rata-rata', 'seasonNumber': 'Jumlah Musim'},\n",
    "    template='plotly_white'  # Template visualisasi\n",
    ")\n",
    "\n",
    "# Menampilkan plot\n",
    "fig.show()"
   ]
  }
 ],
 "metadata": {
  "kernelspec": {
   "display_name": "Python 3",
   "language": "python",
   "name": "python3"
  },
  "language_info": {
   "codemirror_mode": {
    "name": "ipython",
    "version": 3
   },
   "file_extension": ".py",
   "mimetype": "text/x-python",
   "name": "python",
   "nbconvert_exporter": "python",
   "pygments_lexer": "ipython3",
   "version": "3.10.12"
  }
 },
 "nbformat": 4,
 "nbformat_minor": 5
}
