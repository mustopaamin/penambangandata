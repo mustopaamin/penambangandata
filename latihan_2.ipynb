{
 "cells": [
  {
   "cell_type": "code",
   "execution_count": 2,
   "id": "6a8fa4e6",
   "metadata": {},
   "outputs": [
    {
     "name": "stdout",
     "output_type": "stream",
     "text": [
      "       seasonNumber         date    av_rating        share\n",
      "count   1634.000000  1634.000000  1634.000000  1634.000000\n",
      "mean       3.134639  2014.004284     8.104855     0.673488\n",
      "std        3.272515     2.960753     0.649148     1.473995\n",
      "min        1.000000  2008.000000     2.703900     0.000000\n",
      "25%        1.000000  2012.000000     7.770400     0.080000\n",
      "50%        2.000000  2015.000000     8.157650     0.220000\n",
      "75%        4.000000  2017.000000     8.527850     0.630000\n",
      "max       44.000000  2018.000000     9.554000    18.950000\n"
     ]
    }
   ],
   "source": [
    "import pandas as pd\n",
    "import numpy as np\n",
    "import pandas as pd\n",
    "import plotly.express as px\n",
    "\n",
    "# Contoh data\n",
    "df = pd.read_csv('tv.csv')\n",
    "\n",
    "# Menampilkan statistika deskriptif untuk kolom numerik\n",
    "statistik_deskriptif = df.describe()\n",
    "\n",
    "# Menampilkan hasil\n",
    "print(statistik_deskriptif)"
   ]
  }
 ],
 "metadata": {
  "kernelspec": {
   "display_name": "Python 3",
   "language": "python",
   "name": "python3"
  },
  "language_info": {
   "codemirror_mode": {
    "name": "ipython",
    "version": 3
   },
   "file_extension": ".py",
   "mimetype": "text/x-python",
   "name": "python",
   "nbconvert_exporter": "python",
   "pygments_lexer": "ipython3",
   "version": "3.10.12"
  }
 },
 "nbformat": 4,
 "nbformat_minor": 5
}
